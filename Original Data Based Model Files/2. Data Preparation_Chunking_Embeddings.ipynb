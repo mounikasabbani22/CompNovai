{
 "cells": [
  {
   "cell_type": "markdown",
   "metadata": {
    "application/vnd.databricks.v1+cell": {
     "cellMetadata": {},
     "inputWidgets": {},
     "nuid": "a46fb5dd-56cb-44ea-9d60-b476aa6fb51f",
     "showTitle": false,
     "title": ""
    }
   },
   "source": [
    "\n",
    "<div style=\"text-align: center; line-height: 0; padding-top: 9px;\">  \n",
    "  <img src=\"/Volumes/cmidev/default/preventech/DBX_hack/compnovai_logo.PNG\" alt=\"Image\">  \n",
    "</div> "
   ]
  },
  {
   "cell_type": "markdown",
   "metadata": {
    "application/vnd.databricks.v1+cell": {
     "cellMetadata": {
      "byteLimit": 2048000,
      "rowLimit": 10000
     },
     "inputWidgets": {},
     "nuid": "5ba4d10f-60aa-4a85-82f1-0343608ec243",
     "showTitle": false,
     "title": ""
    }
   },
   "source": [
    "\n",
    "# Preparing Data for Mode Building and Prediction\n",
    "This notebook takes care of below: \n",
    "\n",
    "* Split the document data into chunks that are at least as small as the maximum context window of the LLM to be used later.\n",
    "\n",
    "* Choose an embedding model.\n",
    "\n",
    "* Compute embeddings for each of the chunks using a Databricks-managed embedding model.\n",
    "\n",
    "* Use the chunking strategy to divide up the context information to be provided to a model.\n",
    "\n",
    "* Store embeddings into a table for further use\n",
    "\n"
   ]
  },
  {
   "cell_type": "markdown",
   "metadata": {
    "application/vnd.databricks.v1+cell": {
     "cellMetadata": {
      "byteLimit": 2048000,
      "rowLimit": 10000
     },
     "inputWidgets": {},
     "nuid": "95ff480d-1400-481f-8a54-de3abcb0f1c6",
     "showTitle": false,
     "title": ""
    }
   },
   "source": [
    "## Requirements\n",
    "\n",
    "Please review the following requirements before starting the lesson:\n",
    "\n",
    "* To run this notebook, you need to use one of the following Databricks runtime(s): **14.3.x-cpu-ml-scala2.12 14.3.x-scala2.12**\n"
   ]
  },
  {
   "cell_type": "markdown",
   "metadata": {
    "application/vnd.databricks.v1+cell": {
     "cellMetadata": {},
     "inputWidgets": {},
     "nuid": "1ecc2ae5-0876-4a1d-802c-38f7a886f27e",
     "showTitle": false,
     "title": ""
    }
   },
   "source": [
    "\n",
    "<div style=\"text-align: center; line-height: 0; padding-top: 9px;\">  \n",
    "  <img src=\"/Volumes/cmidev/default/preventech/DBX_hack/embeddings_Creation.PNG\" alt=\"Image\">  \n",
    "</div> "
   ]
  },
  {
   "cell_type": "markdown",
   "metadata": {
    "application/vnd.databricks.v1+cell": {
     "cellMetadata": {
      "byteLimit": 2048000,
      "rowLimit": 10000
     },
     "inputWidgets": {},
     "nuid": "ad5adf0f-cb98-4c49-b0f7-290ef41f132f",
     "showTitle": false,
     "title": ""
    }
   },
   "source": [
    "\n",
    "## Setup Installation\n",
    "\n",
    "Install required libraries."
   ]
  },
  {
   "cell_type": "code",
   "execution_count": 0,
   "metadata": {
    "application/vnd.databricks.v1+cell": {
     "cellMetadata": {
      "byteLimit": 2048000,
      "rowLimit": 10000
     },
     "inputWidgets": {},
     "nuid": "3781cc3e-ed0c-4886-8f51-94fa32b90a72",
     "showTitle": false,
     "title": ""
    }
   },
   "outputs": [
    {
     "output_type": "stream",
     "name": "stdout",
     "output_type": "stream",
     "text": [
      "\u001B[43mNote: you may need to restart the kernel using dbutils.library.restartPython() to use updated packages.\u001B[0m\nERROR: pip's dependency resolver does not currently take into account all the packages that are installed. This behaviour is the source of the following dependency conflicts.\ndatabricks-feature-engineering 0.2.1 requires pyspark<4,>=3.1.2, which is not installed.\nydata-profiling 4.2.0 requires pydantic<2,>=1.8.1, but you have pydantic 2.8.2 which is incompatible.\ndatabricks-sdk 0.1.6 requires requests<2.29.0,>=2.28.1, but you have requests 2.32.3 which is incompatible.\n\u001B[43mNote: you may need to restart the kernel using dbutils.library.restartPython() to use updated packages.\u001B[0m\n"
     ]
    }
   ],
   "source": [
    "%pip install --quiet PyMuPDF mlflow==2.14.3 transformers==4.44.0 \"unstructured[pdf,docx]==0.14.10\" llama-index==0.10.62 pydantic==2.8.2 accelerate\n",
    "dbutils.library.restartPython()"
   ]
  },
  {
   "cell_type": "code",
   "execution_count": 0,
   "metadata": {
    "application/vnd.databricks.v1+cell": {
     "cellMetadata": {
      "byteLimit": 2048000,
      "rowLimit": 10000
     },
     "inputWidgets": {},
     "nuid": "38e8d4bf-f1c1-43c0-83fe-5e0fd349c195",
     "showTitle": false,
     "title": ""
    }
   },
   "outputs": [
    {
     "output_type": "stream",
     "name": "stdout",
     "output_type": "stream",
     "text": [
      "\u001B[43mNote: you may need to restart the kernel using dbutils.library.restartPython() to use updated packages.\u001B[0m\nRequirement already satisfied: urllib3 in /local_disk0/.ephemeral_nfs/envs/pythonEnv-74f7ac43-5981-45be-bcc4-4654443f5ea4/lib/python3.10/site-packages (1.26.20)\nCollecting urllib3\n  Using cached urllib3-2.2.3-py3-none-any.whl (126 kB)\nRequirement already satisfied: transformers in /local_disk0/.ephemeral_nfs/envs/pythonEnv-74f7ac43-5981-45be-bcc4-4654443f5ea4/lib/python3.10/site-packages (4.44.0)\nCollecting transformers\n  Downloading transformers-4.44.2-py3-none-any.whl (9.5 MB)\n     ━━━━━━━━━━━━━━━━━━━━━━━━━━━━━━━━━━━━━━━━ 9.5/9.5 MB 26.2 MB/s eta 0:00:00\nRequirement already satisfied: safetensors>=0.4.1 in /databricks/python3/lib/python3.10/site-packages (from transformers) (0.4.1)\nRequirement already satisfied: tqdm>=4.27 in /local_disk0/.ephemeral_nfs/envs/pythonEnv-74f7ac43-5981-45be-bcc4-4654443f5ea4/lib/python3.10/site-packages (from transformers) (4.66.5)\nRequirement already satisfied: requests in /local_disk0/.ephemeral_nfs/envs/pythonEnv-74f7ac43-5981-45be-bcc4-4654443f5ea4/lib/python3.10/site-packages (from transformers) (2.32.3)\nRequirement already satisfied: huggingface-hub<1.0,>=0.23.2 in /local_disk0/.ephemeral_nfs/envs/pythonEnv-74f7ac43-5981-45be-bcc4-4654443f5ea4/lib/python3.10/site-packages (from transformers) (0.25.0)\nRequirement already satisfied: pyyaml>=5.1 in /local_disk0/.ephemeral_nfs/envs/pythonEnv-74f7ac43-5981-45be-bcc4-4654443f5ea4/lib/python3.10/site-packages (from transformers) (6.0.2)\nRequirement already satisfied: tokenizers<0.20,>=0.19 in /local_disk0/.ephemeral_nfs/envs/pythonEnv-74f7ac43-5981-45be-bcc4-4654443f5ea4/lib/python3.10/site-packages (from transformers) (0.19.1)\nRequirement already satisfied: filelock in /databricks/python3/lib/python3.10/site-packages (from transformers) (3.9.0)\nRequirement already satisfied: packaging>=20.0 in /databricks/python3/lib/python3.10/site-packages (from transformers) (23.2)\nRequirement already satisfied: numpy>=1.17 in /databricks/python3/lib/python3.10/site-packages (from transformers) (1.23.5)\nRequirement already satisfied: regex!=2019.12.17 in /databricks/python3/lib/python3.10/site-packages (from transformers) (2022.7.9)\nRequirement already satisfied: typing-extensions>=3.7.4.3 in /local_disk0/.ephemeral_nfs/envs/pythonEnv-74f7ac43-5981-45be-bcc4-4654443f5ea4/lib/python3.10/site-packages (from huggingface-hub<1.0,>=0.23.2->transformers) (4.12.2)\nRequirement already satisfied: fsspec>=2023.5.0 in /databricks/python3/lib/python3.10/site-packages (from huggingface-hub<1.0,>=0.23.2->transformers) (2023.6.0)\nRequirement already satisfied: charset-normalizer<4,>=2 in /local_disk0/.ephemeral_nfs/envs/pythonEnv-74f7ac43-5981-45be-bcc4-4654443f5ea4/lib/python3.10/site-packages (from requests->transformers) (3.3.2)\nRequirement already satisfied: idna<4,>=2.5 in /databricks/python3/lib/python3.10/site-packages (from requests->transformers) (3.4)\nRequirement already satisfied: certifi>=2017.4.17 in /local_disk0/.ephemeral_nfs/envs/pythonEnv-74f7ac43-5981-45be-bcc4-4654443f5ea4/lib/python3.10/site-packages (from requests->transformers) (2024.8.30)\nInstalling collected packages: urllib3, transformers\n  Attempting uninstall: urllib3\n    Found existing installation: urllib3 1.26.20\n    Uninstalling urllib3-1.26.20:\n      Successfully uninstalled urllib3-1.26.20\n  Attempting uninstall: transformers\n    Found existing installation: transformers 4.44.0\n    Uninstalling transformers-4.44.0:\n      Successfully uninstalled transformers-4.44.0\nERROR: pip's dependency resolver does not currently take into account all the packages that are installed. This behaviour is the source of the following dependency conflicts.\ndatabricks-feature-engineering 0.2.1 requires pyspark<4,>=3.1.2, which is not installed.\nydata-profiling 4.2.0 requires pydantic<2,>=1.8.1, but you have pydantic 2.8.2 which is incompatible.\ngoogle-auth 2.21.0 requires urllib3<2.0, but you have urllib3 2.2.3 which is incompatible.\ndatabricks-sdk 0.1.6 requires requests<2.29.0,>=2.28.1, but you have requests 2.32.3 which is incompatible.\nbotocore 1.27.96 requires urllib3<1.27,>=1.25.4, but you have urllib3 2.2.3 which is incompatible.\nSuccessfully installed transformers-4.44.2 urllib3-2.2.3\n\u001B[43mNote: you may need to restart the kernel using dbutils.library.restartPython() to use updated packages.\u001B[0m\n\u001B[43mNote: you may need to restart the kernel using dbutils.library.restartPython() to use updated packages.\u001B[0m\nFound existing installation: transformers 4.44.2\nUninstalling transformers-4.44.2:\n  Successfully uninstalled transformers-4.44.2\n\u001B[43mNote: you may need to restart the kernel using dbutils.library.restartPython() to use updated packages.\u001B[0m\n\u001B[43mNote: you may need to restart the kernel using dbutils.library.restartPython() to use updated packages.\u001B[0m\nRequirement already satisfied: transformers in /databricks/python3/lib/python3.10/site-packages (4.36.1)\nRequirement already satisfied: tqdm>=4.27 in /local_disk0/.ephemeral_nfs/envs/pythonEnv-74f7ac43-5981-45be-bcc4-4654443f5ea4/lib/python3.10/site-packages (from transformers) (4.66.5)\nRequirement already satisfied: filelock in /databricks/python3/lib/python3.10/site-packages (from transformers) (3.9.0)\nRequirement already satisfied: regex!=2019.12.17 in /databricks/python3/lib/python3.10/site-packages (from transformers) (2022.7.9)\nRequirement already satisfied: huggingface-hub<1.0,>=0.19.3 in /local_disk0/.ephemeral_nfs/envs/pythonEnv-74f7ac43-5981-45be-bcc4-4654443f5ea4/lib/python3.10/site-packages (from transformers) (0.25.0)\nCollecting tokenizers<0.19,>=0.14\n  Downloading tokenizers-0.15.2-cp310-cp310-manylinux_2_17_x86_64.manylinux2014_x86_64.whl (3.6 MB)\n     ━━━━━━━━━━━━━━━━━━━━━━━━━━━━━━━━━━━━━━━━ 3.6/3.6 MB 13.5 MB/s eta 0:00:00\nRequirement already satisfied: packaging>=20.0 in /databricks/python3/lib/python3.10/site-packages (from transformers) (23.2)\nRequirement already satisfied: safetensors>=0.3.1 in /databricks/python3/lib/python3.10/site-packages (from transformers) (0.4.1)\nRequirement already satisfied: pyyaml>=5.1 in /local_disk0/.ephemeral_nfs/envs/pythonEnv-74f7ac43-5981-45be-bcc4-4654443f5ea4/lib/python3.10/site-packages (from transformers) (6.0.2)\nRequirement already satisfied: requests in /local_disk0/.ephemeral_nfs/envs/pythonEnv-74f7ac43-5981-45be-bcc4-4654443f5ea4/lib/python3.10/site-packages (from transformers) (2.32.3)\nRequirement already satisfied: numpy>=1.17 in /databricks/python3/lib/python3.10/site-packages (from transformers) (1.23.5)\nRequirement already satisfied: typing-extensions>=3.7.4.3 in /local_disk0/.ephemeral_nfs/envs/pythonEnv-74f7ac43-5981-45be-bcc4-4654443f5ea4/lib/python3.10/site-packages (from huggingface-hub<1.0,>=0.19.3->transformers) (4.12.2)\nRequirement already satisfied: fsspec>=2023.5.0 in /databricks/python3/lib/python3.10/site-packages (from huggingface-hub<1.0,>=0.19.3->transformers) (2023.6.0)\nRequirement already satisfied: charset-normalizer<4,>=2 in /local_disk0/.ephemeral_nfs/envs/pythonEnv-74f7ac43-5981-45be-bcc4-4654443f5ea4/lib/python3.10/site-packages (from requests->transformers) (3.3.2)\nRequirement already satisfied: urllib3<3,>=1.21.1 in /local_disk0/.ephemeral_nfs/envs/pythonEnv-74f7ac43-5981-45be-bcc4-4654443f5ea4/lib/python3.10/site-packages (from requests->transformers) (2.2.3)\nRequirement already satisfied: idna<4,>=2.5 in /databricks/python3/lib/python3.10/site-packages (from requests->transformers) (3.4)\nRequirement already satisfied: certifi>=2017.4.17 in /local_disk0/.ephemeral_nfs/envs/pythonEnv-74f7ac43-5981-45be-bcc4-4654443f5ea4/lib/python3.10/site-packages (from requests->transformers) (2024.8.30)\nInstalling collected packages: tokenizers\n  Attempting uninstall: tokenizers\n    Found existing installation: tokenizers 0.19.1\n    Uninstalling tokenizers-0.19.1:\n      Successfully uninstalled tokenizers-0.19.1\nSuccessfully installed tokenizers-0.15.2\n\u001B[43mNote: you may need to restart the kernel using dbutils.library.restartPython() to use updated packages.\u001B[0m\n"
     ]
    }
   ],
   "source": [
    "%pip install --upgrade urllib3 transformers\n",
    "%pip uninstall -y transformers\n",
    "%pip install transformers"
   ]
  },
  {
   "cell_type": "markdown",
   "metadata": {
    "application/vnd.databricks.v1+cell": {
     "cellMetadata": {
      "byteLimit": 2048000,
      "rowLimit": 10000
     },
     "inputWidgets": {},
     "nuid": "b6d44e84-f581-42f2-8416-9b487fe5d181",
     "showTitle": false,
     "title": ""
    }
   },
   "source": [
    "## Extract PDF Content as Text Chunks\n",
    "\n",
    "As the first step, we need to ingest PDF files and divide the content into chunks. PDF files are already downloaded during the course step and stored in **datasets path**."
   ]
  },
  {
   "cell_type": "code",
   "execution_count": 0,
   "metadata": {
    "application/vnd.databricks.v1+cell": {
     "cellMetadata": {
      "byteLimit": 2048000,
      "rowLimit": 10000
     },
     "inputWidgets": {},
     "nuid": "dea7a8b9-cb43-4606-83d5-63ca5b7a1db9",
     "showTitle": false,
     "title": ""
    }
   },
   "outputs": [],
   "source": [
    "# Reduce the arrow batch size as our PDF can be big in memory\n",
    "# spark.conf.set(\"spark.sql.execution.arrow.maxRecordsPerBatch\", 10)"
   ]
  },
  {
   "cell_type": "code",
   "execution_count": 0,
   "metadata": {
    "application/vnd.databricks.v1+cell": {
     "cellMetadata": {
      "byteLimit": 2048000,
      "rowLimit": 10000
     },
     "inputWidgets": {},
     "nuid": "d0bee10b-1450-40dc-b52a-31b4d67e74ab",
     "showTitle": false,
     "title": ""
    }
   },
   "outputs": [],
   "source": [
    "#cmidev.cbu_ccims_poc.ccims_claim_inspection_feature"
   ]
  },
  {
   "cell_type": "markdown",
   "metadata": {
    "application/vnd.databricks.v1+cell": {
     "cellMetadata": {},
     "inputWidgets": {},
     "nuid": "d96951bf-7d13-4b8c-83f5-da4e8b68517d",
     "showTitle": false,
     "title": ""
    }
   },
   "source": [
    "# Read feature table"
   ]
  },
  {
   "cell_type": "code",
   "execution_count": 0,
   "metadata": {
    "application/vnd.databricks.v1+cell": {
     "cellMetadata": {
      "byteLimit": 2048000,
      "rowLimit": 10000
     },
     "inputWidgets": {},
     "nuid": "0ae97a24-fe1a-4be1-abb5-dc6606708494",
     "showTitle": false,
     "title": ""
    }
   },
   "outputs": [],
   "source": [
    "table_name = f\"cmidev.cbu_ccims_poc.ccims_claim_inspection_feature\"\n",
    "df =spark.readStream.table(table_name)"
   ]
  },
  {
   "cell_type": "code",
   "execution_count": 0,
   "metadata": {
    "application/vnd.databricks.v1+cell": {
     "cellMetadata": {
      "byteLimit": 2048000,
      "rowLimit": 10000
     },
     "inputWidgets": {},
     "nuid": "beca146e-d5fb-46bf-9383-e404b9bb24f1",
     "showTitle": false,
     "title": ""
    }
   },
   "outputs": [],
   "source": [
    "# Function to clean up the extracted text (optional)\n",
    "import re\n",
    "def clean_extracted_text(text):\n",
    "    text = re.sub(r'\\n', '', text)\n",
    "    return re.sub(r' ?\\.', '.', text)\n",
    "\n",
    "\n",
    "def pprint(obj):\n",
    "  import pprint\n",
    "  pprint.pprint(obj, compact=True, indent=1, width=100)"
   ]
  },
  {
   "cell_type": "code",
   "execution_count": 0,
   "metadata": {
    "application/vnd.databricks.v1+cell": {
     "cellMetadata": {
      "byteLimit": 2048000,
      "rowLimit": 10000
     },
     "inputWidgets": {},
     "nuid": "70fa679e-2785-488c-8219-f390a682a77d",
     "showTitle": false,
     "title": ""
    }
   },
   "outputs": [],
   "source": [
    "def extract_doc_text(df,row_id):\n",
    "    txt = df.collect()[row_id][20]\n",
    "    return txt    "
   ]
  },
  {
   "cell_type": "code",
   "execution_count": 0,
   "metadata": {
    "application/vnd.databricks.v1+cell": {
     "cellMetadata": {
      "byteLimit": 2048000,
      "rowLimit": 10000
     },
     "inputWidgets": {},
     "nuid": "86a9082f-3720-4781-b655-61766cf2c06d",
     "showTitle": false,
     "title": ""
    }
   },
   "outputs": [],
   "source": [
    "#extract_doc_text(df,row_id=5)"
   ]
  },
  {
   "cell_type": "markdown",
   "metadata": {
    "application/vnd.databricks.v1+cell": {
     "cellMetadata": {},
     "inputWidgets": {},
     "nuid": "631df66c-1a4d-4433-9d02-ea6a921d3c8f",
     "showTitle": false,
     "title": ""
    }
   },
   "source": [
    "# Preprocess and chunk text using pretrained model tokenizer"
   ]
  },
  {
   "cell_type": "code",
   "execution_count": 0,
   "metadata": {
    "application/vnd.databricks.v1+cell": {
     "cellMetadata": {
      "byteLimit": 2048000,
      "rowLimit": 10000
     },
     "inputWidgets": {},
     "nuid": "d3d89996-530e-46c2-917f-cef2977ad71a",
     "showTitle": false,
     "title": ""
    }
   },
   "outputs": [
    {
     "output_type": "stream",
     "name": "stderr",
     "output_type": "stream",
     "text": [
      "2024-09-18 02:06:39.873851: I tensorflow/core/platform/cpu_feature_guard.cc:182] This TensorFlow binary is optimized to use available CPU instructions in performance-critical operations.\nTo enable the following instructions: AVX2 AVX512F FMA, in other operations, rebuild TensorFlow with the appropriate compiler flags.\n"
     ]
    }
   ],
   "source": [
    "import io\n",
    "import os\n",
    "import pandas as pd \n",
    "\n",
    "from llama_index.core.node_parser import SentenceSplitter\n",
    "from llama_index.core.schema import Document\n",
    "from llama_index.core.utils import set_global_tokenizer\n",
    "from transformers import AutoTokenizer\n",
    "from typing import Iterator\n",
    "from pyspark.sql.functions import col, udf, length, pandas_udf, explode\n",
    "from unstructured.partition.auto import partition\n",
    "\n",
    "\n",
    "@pandas_udf(\"array<string>\")\n",
    "def read_as_chunk(batch_iter: Iterator[pd.Series]) -> Iterator[pd.Series]:\n",
    "    # set llama2 as tokenizer\n",
    "    set_global_tokenizer(\n",
    "      AutoTokenizer.from_pretrained(\"hf-internal-testing/llama-tokenizer\")\n",
    "    )\n",
    "    # sentence splitter from llama_index to split on sentences\n",
    "    splitter = SentenceSplitter(chunk_size=100, chunk_overlap=20)\n",
    "    def extract_and_split(txt):\n",
    "      # txt = extract_doc_text(b)\n",
    "      nodes = splitter.get_nodes_from_documents([Document(text=txt)])\n",
    "      return [n.text for n in nodes]\n",
    "\n",
    "    for x in batch_iter:\n",
    "        yield x.apply(extract_and_split)"
   ]
  },
  {
   "cell_type": "markdown",
   "metadata": {
    "application/vnd.databricks.v1+cell": {
     "cellMetadata": {
      "byteLimit": 2048000,
      "rowLimit": 10000
     },
     "inputWidgets": {},
     "nuid": "60fb494e-fcad-4671-91a4-d68dca511bbc",
     "showTitle": false,
     "title": ""
    }
   },
   "source": [
    "# Perform chunking of each field in document array for each claim"
   ]
  },
  {
   "cell_type": "code",
   "execution_count": 0,
   "metadata": {
    "application/vnd.databricks.v1+cell": {
     "cellMetadata": {
      "byteLimit": 2048000,
      "rowLimit": 10000
     },
     "inputWidgets": {},
     "nuid": "860283fb-ef73-4306-b01b-2b67c47e083c",
     "showTitle": false,
     "title": ""
    }
   },
   "outputs": [
    {
     "output_type": "stream",
     "name": "stdout",
     "output_type": "stream",
     "text": [
      "{'data': [{'embedding': [1.0458984375, -0.052520751953125, -0.281982421875, -0.0909423828125,\n                         0.095458984375, -0.1343994140625, 0.1583251953125, 0.281982421875,\n                         0.763671875, 0.415771484375, 0.60791015625, -0.06201171875,\n                         0.10443115234375, 0.58984375, -0.40087890625, 0.35498046875, 0.58837890625,\n                         0.4326171875, 0.06085205078125, -0.2039794921875, -0.59326171875,\n                         0.099853515625, -0.33447265625, -2.966796875, 0.3046875, 0.422607421875,\n                         0.0034198760986328125, -0.09210205078125, -0.8515625, 0.03375244140625,\n                         0.489990234375, 0.00843048095703125, -1.41015625, 0.417724609375,\n                         0.63525390625, -0.272705078125, -0.3408203125, 1.3095703125,\n                         -0.280517578125, -0.716796875, -0.223876953125, -0.1217041015625,\n                         -0.7685546875, 0.09429931640625, 1.384765625, -0.01186370849609375,\n                         0.56982421875, 0.086181640625, -0.35498046875, -0.251220703125,\n                         -2.068359375, 0.05938720703125, 0.452392578125, -0.77880859375,\n                         -0.9169921875, -0.0350341796875, 0.93017578125, -0.240478515625,\n                         0.466064453125, -0.1334228515625, -0.078857421875, 0.55810546875,\n                         -0.57568359375, -0.537109375, -0.1326904296875, -0.583984375,\n                         0.305908203125, -0.421142578125, -0.3671875, 1.44140625, 0.0228271484375,\n                         0.76123046875, 0.1456298828125, 0.07281494140625, 1.8408203125,\n                         -0.359130859375, 0.63671875, 1.171875, 0.62451171875, 0.6533203125,\n                         -0.05523681640625, -0.59326171875, -0.50439453125, 0.2763671875,\n                         0.07672119140625, 0.38134765625, 1.263671875, -0.267333984375,\n                         -0.140380859375, 0.1258544921875, -0.423095703125, 0.51416015625,\n                         0.0145721435546875, -0.463623046875, 0.348388671875, 1.7158203125,\n                         0.07745361328125, -0.280029296875, -0.1368408203125, -0.421630859375,\n                         -0.5439453125, -0.151123046875, 0.59375, -0.2060546875, 0.09417724609375,\n                         0.1715087890625, 0.6025390625, -0.9033203125, 0.462158203125,\n                         -0.09625244140625, 0.46728515625, -0.61865234375, -0.326904296875,\n                         0.427001953125, 0.9912109375, 0.50244140625, 0.517578125,\n                         -0.07928466796875, 0.07330322265625, 0.560546875, 0.12103271484375,\n                         -0.60205078125, 0.8505859375, 0.51171875, 0.76318359375, -0.08538818359375,\n                         -0.1207275390625, -0.136474609375, -0.58642578125, 0.163818359375,\n                         -0.62109375, -0.78369140625, -0.322021484375, -0.1312255859375,\n                         -0.132568359375, 0.275146484375, -0.52099609375, 0.4501953125,\n                         0.74267578125, 0.26318359375, -0.7109375, 0.270263671875, 0.443603515625,\n                         0.12493896484375, 0.88232421875, -0.190673828125, 1.1630859375,\n                         0.708984375, 0.7490234375, -2.34375, -1.294921875, 0.4140625,\n                         -0.6650390625, -0.8515625, -0.410888671875, 0.5126953125,\n                         -0.11480712890625, -0.84375, -0.1678466796875, -0.98681640625,\n                         -0.88232421875, -1.71484375, -0.1925048828125, 0.59326171875,\n                         0.1397705078125, 0.8388671875, -0.60498046875, -0.0635986328125,\n                         -0.178955078125, 0.2103271484375, -1.337890625, -0.0010366439819335938,\n                         0.86279296875, -0.1318359375, -0.2396240234375, -0.5029296875,\n                         0.80908203125, -0.5576171875, -0.197998046875, -0.379638671875,\n                         0.218505859375, -1.0927734375, -0.61962890625, -1.2001953125, -2.072265625,\n                         0.382080078125, -0.6494140625, 0.36376953125, 0.483154296875,\n                         -0.14208984375, -0.212890625, 1.025390625, -0.253662109375,\n                         -0.1932373046875, -0.62060546875, -0.736328125, 0.100341796875,\n                         -0.457275390625, 0.47119140625, 0.327392578125, 0.374755859375,\n                         0.1339111328125, -0.7978515625, -0.01149749755859375, 0.0288238525390625,\n                         -0.0633544921875, 0.4541015625, 1.53125, -0.107666015625, 0.5029296875,\n                         -1.27734375, -0.68798828125, -0.77880859375, 0.22509765625, -0.9580078125,\n                         0.08709716796875, 0.430419921875, -1.46484375, 0.029571533203125,\n                         0.50634765625, 0.70703125, 0.767578125, 0.39013671875, 0.432861328125,\n                         0.4609375, -0.91748046875, -0.78125, -0.469970703125, -0.1258544921875,\n                         0.298583984375, 0.25341796875, 0.34814453125, 0.369140625, -1.39453125,\n                         1.4814453125, -1.3037109375, -0.397216796875, 0.57666015625,\n                         0.1944580078125, -1.3486328125, 0.154541015625, -0.18212890625,\n                         -0.08563232421875, -0.10858154296875, -0.75634765625, 0.55859375,\n                         0.4462890625, -0.70654296875, -0.11627197265625, 0.26513671875,\n                         -0.41064453125, 0.2210693359375, 0.345703125, -0.217529296875,\n                         0.14892578125, -0.64697265625, 0.288330078125, 0.06341552734375,\n                         0.108154296875, 0.10028076171875, -1.4609375, -0.0224761962890625,\n                         -0.86865234375, 1.28515625, 0.2010498046875, 0.39794921875, 0.7626953125,\n                         -0.063232421875, -0.59375, 0.0472412109375, 0.6650390625, 0.53857421875,\n                         1.353515625, -1.4892578125, -0.169677734375, 0.6591796875, 0.46044921875,\n                         -0.53173828125, -0.43115234375, 0.619140625, 0.376953125, 0.65380859375,\n                         -0.2705078125, 0.1356201171875, -0.08001708984375, -0.38037109375,\n                         0.78369140625, 0.81201171875, 0.58837890625, -0.51416015625,\n                         -0.45751953125, 0.005115509033203125, 0.82666015625, -0.2388916015625,\n                         0.662109375, -0.69091796875, -0.380126953125, -0.1240234375, 1.0234375,\n                         0.08184814453125, -0.054534912109375, 0.6787109375, 0.3115234375,\n                         -0.363525390625, 0.85205078125, 0.01885986328125, 0.053741455078125,\n                         0.5126953125, 0.97265625, 0.80712890625, 0.470458984375, -0.290283203125,\n                         -0.90966796875, 0.3310546875, 0.046417236328125, -0.72802734375,\n                         -1.84765625, 0.1021728515625, -1.177734375, -0.287841796875, 1.3349609375,\n                         -0.045806884765625, 0.13330078125, 0.62841796875, -0.9033203125,\n                         0.97119140625, -0.2174072265625, -0.377197265625, 0.58935546875,\n                         0.6591796875, 0.81982421875, -0.07586669921875, -0.9931640625,\n                         -0.57080078125, 0.4267578125, 0.57373046875, 0.78857421875, -0.75,\n                         -0.87109375, -0.1630859375, -0.845703125, -1.494140625, 0.51123046875,\n                         0.85302734375, 0.85498046875, 1.0791015625, -1.125, -0.35986328125,\n                         -1.298828125, -0.1507568359375, 0.5263671875, 0.55078125, -0.4453125,\n                         -0.1856689453125, 0.54443359375, -0.25, 1.197265625, 0.036773681640625,\n                         -0.15380859375, 0.8818359375, 0.2301025390625, -0.041961669921875,\n                         -2.689453125, -0.583984375, -0.34375, 0.291015625, 0.1884765625,\n                         -0.24609375, -0.424072265625, 0.1678466796875, 0.51318359375, 0.720703125,\n                         -0.58642578125, -0.1522216796875, 0.66064453125, -0.127197265625,\n                         0.1541748046875, 0.53173828125, -0.98291015625, 0.90478515625,\n                         0.69091796875, 0.6328125, 0.260986328125, -0.814453125, 0.1361083984375,\n                         0.306884765625, -1.0703125, -0.783203125, -0.1343994140625, 0.4287109375,\n                         0.475341796875, 0.1378173828125, -0.94921875, 0.3486328125, -1.384765625,\n                         0.40673828125, 1.53515625, -0.76025390625, 0.290283203125, 0.654296875,\n                         0.046600341796875, -0.487548828125, -1.1318359375, 0.281982421875,\n                         -0.150390625, 0.88330078125, 0.640625, -0.41455078125, 0.078857421875,\n                         -0.1708984375, 0.327392578125, -0.7978515625, 0.18994140625, -0.4765625,\n                         -0.0919189453125, -0.0106048583984375, 0.86962890625, 0.732421875,\n                         0.58984375, -0.4501953125, -0.61376953125, 0.037841796875, 1.0146484375,\n                         0.04541015625, -0.96630859375, 0.07879638671875, 0.78173828125,\n                         -0.50341796875, 1.23828125, 0.444580078125, 0.1353759765625, 0.47900390625,\n                         0.47412109375, -0.1898193359375, 1.142578125, -0.2132568359375,\n                         0.8564453125, -0.62353515625, 0.01375579833984375, -0.375732421875,\n                         0.82275390625, 1.0283203125, -0.58984375, 0.3037109375, -0.158203125,\n                         0.5126953125, 1.0810546875, 0.060211181640625, 0.77587890625, -0.91796875,\n                         0.53173828125, -0.454833984375, 0.5087890625, 0.173828125, 1.724609375,\n                         -0.45361328125, -0.4365234375, -0.82958984375, -1.00390625, 0.7353515625,\n                         0.73583984375, 0.004268646240234375, 0.428955078125, 0.6201171875,\n                         -1.1962890625, -0.139404296875, 0.003337860107421875, -0.5078125,\n                         -0.8583984375, -0.69384765625, -0.1832275390625, 0.64697265625,\n                         1.4091796875, -0.1483154296875, -0.8642578125, -0.16357421875, 0.82421875,\n                         1.09375, -0.3779296875, -0.82421875, -0.8330078125, 0.353271484375,\n                         -1.0498046875, -0.1982421875, 0.91015625, 0.259765625, 0.152587890625,\n                         -0.315185546875, -0.81396484375, -0.1278076171875, -0.30029296875,\n                         0.31640625, -0.982421875, 0.580078125, -1.3056640625, -0.734375,\n                         0.257568359375, -0.488037109375, -0.8466796875, -0.1190185546875,\n                         -0.8759765625, -0.448486328125, 0.5703125, 0.324951171875, -0.176513671875,\n                         0.724609375, -0.1929931640625, 0.12384033203125, 0.55419921875,\n                         0.125244140625, 0.427978515625, -0.413330078125, 1.17578125, 0.5419921875,\n                         -0.007965087890625, -0.724609375, 0.175048828125, 0.11236572265625,\n                         -0.150390625, 0.1326904296875, 0.0775146484375, 0.6240234375, -0.455078125,\n                         -0.92529296875, 0.68310546875, 0.52490234375, -0.03375244140625,\n                         -0.435546875, 0.368408203125, 0.135009765625, -0.489013671875,\n                         0.6162109375, 0.32568359375, -0.09906005859375, 0.59765625, -1.142578125,\n                         0.2218017578125, -0.38232421875, -0.6953125, 0.7900390625, -0.5087890625,\n                         0.1595458984375, -1.3447265625, -0.0011873245239257812, -0.191650390625,\n                         0.256591796875, 0.35546875, 0.2467041015625, -0.07281494140625,\n                         -0.83544921875, 0.0184173583984375, 0.348388671875, 1.1279296875,\n                         0.2322998046875, -1.412109375, -0.1331787109375, -0.042999267578125, 0.5,\n                         0.303466796875, -0.5283203125, 0.39111328125, -1.2744140625,\n                         -0.308349609375, -0.1546630859375, -0.30224609375, 1.107421875,\n                         0.5986328125, 0.109130859375, 0.56591796875, -0.57666015625,\n                         -0.1580810546875, 0.0751953125, -1.3017578125, 0.75048828125,\n                         -0.1651611328125, 0.6455078125, 0.74755859375, -1.12890625, 0.232421875,\n                         -0.8681640625, 0.58154296875, 0.057464599609375, -0.8486328125,\n                         -0.350830078125, -0.580078125, 0.6904296875, 0.8251953125, -0.5712890625,\n                         -0.546875, -0.7255859375, -0.77197265625, -0.5517578125, -0.1297607421875,\n                         0.68310546875, -0.11767578125, -0.62646484375, -0.2127685546875,\n                         0.470458984375, 0.163818359375, -0.45947265625, 0.1746826171875,\n                         0.65966796875, 1.2529296875, -0.2489013671875, 0.5849609375, 0.1806640625,\n                         0.76904296875, -0.478271484375, -0.142578125, -0.07269287109375,\n                         -0.263916015625, 0.93310546875, 0.5341796875, 0.2275390625, 0.4326171875,\n                         0.310302734375, -0.97900390625, 0.1162109375, -0.95556640625,\n                         0.404052734375, -0.3935546875, -0.01486968994140625, 0.279052734375,\n                         0.266357421875, -0.759765625, 0.11279296875, 0.034393310546875,\n                         -0.1448974609375, 0.54541015625, -0.1033935546875, 0.00904083251953125,\n                         -0.5947265625, -0.537109375, -0.1832275390625, -1.453125, -0.59423828125,\n                         0.60009765625, 1.115234375, 0.403564453125, -1.0458984375, 0.28271484375,\n                         -0.02752685546875, -0.109375, -0.3818359375, 1.0224609375, -0.40771484375,\n                         0.272216796875, -0.339599609375, -0.2322998046875, 0.23974609375,\n                         0.328857421875, -0.163818359375, -0.5380859375, -0.9404296875, -1.35546875,\n                         0.95556640625, -0.266845703125, -1.232421875, -0.6337890625,\n                         -0.272705078125, -1.36328125, 1.8857421875, 0.48583984375, 0.483154296875,\n                         -1.1962890625, -1.060546875, -0.74560546875, -1, 0.31005859375, 0.515625,\n                         1.3740234375, 0.50244140625, -0.336181640625, 0.33740234375,\n                         0.2227783203125, -1.0400390625, 0.22412109375, -0.319091796875,\n                         -1.1923828125, -0.943359375, 0.365478515625, 1.2353515625, 0.77392578125,\n                         -1.1796875, -0.1695556640625, -0.1873779296875, 0.89404296875,\n                         -0.8095703125, -0.06494140625, -1.076171875, -0.1590576171875,\n                         0.096923828125, 0.28515625, 0.423828125, -0.2998046875, -0.7958984375,\n                         -0.1746826171875, -0.39453125, -1.314453125, 0.583984375, -0.337646484375,\n                         -0.336669921875, -0.281982421875, -0.44921875, 0.74267578125,\n                         -0.380126953125, 0.2139892578125, -0.2431640625, -0.138671875,\n                         0.8740234375, 0.677734375, -0.09649658203125, -0.448486328125,\n                         0.422119140625, 1.419921875, -0.403564453125, -1.7373046875, -0.6943359375,\n                         0.0712890625, 0.64599609375, -0.95361328125, -0.2015380859375,\n                         0.092529296875, -0.1668701171875, 0.306396484375, -0.75341796875,\n                         -0.490478515625, 0.08343505859375, 0.69140625, -0.49169921875,\n                         -0.798828125, -0.273681640625, -0.1873779296875, 0.11468505859375,\n                         0.92724609375, -0.044525146484375, -1.01171875, 0.3330078125,\n                         -0.209228515625, 0.256103515625, 0.49462890625, 0.2294921875,\n                         0.1600341796875, 0.82861328125, -1.083984375, -0.2042236328125,\n                         1.0869140625, -0.101806640625, -0.67626953125, 0.2734375, 1.9658203125,\n                         0.309814453125, -0.7529296875, -0.039093017578125, -0.319580078125,\n                         0.1651611328125, -0.74560546875, -0.78662109375, -0.348388671875,\n                         0.08587646484375, 0.86474609375, 0.6611328125, 0.203125, -0.67724609375,\n                         0.1781005859375, -0.98046875, -0.00847625732421875, 0.521484375,\n                         0.30810546875, -0.5498046875, 0.09942626953125, 1.009765625,\n                         -0.439208984375, -0.168701171875, 0.48681640625, -0.85498046875,\n                         -0.415771484375, -0.89892578125, 0.492431640625, -1.62109375, 1.466796875,\n                         -1.2548828125, 0.5634765625, -0.4375, 0.0810546875, -0.048858642578125,\n                         -0.316650390625, -0.54931640625, -0.900390625, -0.65625, -1.2607421875,\n                         -0.2474365234375, 0.0716552734375, 0.1400146484375, 0.448486328125,\n                         -0.6337890625, -0.2091064453125, -0.54833984375, 0.1339111328125,\n                         0.90478515625, 1.1533203125, 0.369384765625, -0.32421875,\n                         0.033111572265625, 0.5927734375, 0.0682373046875, -0.08636474609375,\n                         -0.01471710205078125, 0.9873046875, -0.25830078125, 0.11474609375,\n                         -0.488525390625, -1.205078125, 0.79443359375, 0.56396484375,\n                         -0.66064453125, 0.828125, 0.833984375, -1.080078125, -0.0640869140625,\n                         0.06689453125, -0.485595703125, 0.260986328125, -0.51123046875,\n                         0.321044921875, 0.91162109375, 0.315673828125, 0.95654296875,\n                         0.31787109375, 0.0914306640625, -0.161376953125, 0.446044921875,\n                         -0.759765625, 0.59033203125, -0.640625, -1.2421875, -1.2939453125,\n                         -0.5947265625, -0.43505859375, 0.486572265625, -0.9697265625,\n                         0.1712646484375, -1.1005859375, -1.017578125, -0.6337890625, -0.810546875,\n                         -0.491455078125, -0.36376953125, -0.52294921875, 0.82373046875,\n                         0.23486328125, -0.357421875, -1.3203125, 0.385498046875, 0.53857421875,\n                         -2.03515625, -0.9736328125, -0.77490234375, -0.4208984375, -1.79296875,\n                         1.2568359375, -1.22265625, 0.1885986328125, 0.7294921875, -0.71533203125,\n                         0.43603515625, -1.0927734375, 0.51806640625, -0.73193359375,\n                         0.480712890625, -1.1044921875, 0.1317138671875, 0.09124755859375,\n                         -1.064453125, -0.51025390625, -0.0892333984375, 0.329345703125,\n                         -0.58642578125, -0.91748046875, 0.6806640625, 0.3134765625,\n                         -0.1605224609375, -0.1859130859375, -0.40283203125, -0.2469482421875,\n                         0.202880859375, -0.50732421875, 0.1376953125, -0.50146484375, 1.15234375,\n                         1.4189453125, 0.78369140625, 0.76708984375, 0.72900390625, -0.81494140625,\n                         -0.10546875, 0.329833984375, 1.4765625, 0.564453125, -0.225341796875,\n                         -0.361328125, -1.2666015625, 0.385009765625, 0.487548828125,\n                         0.276611328125, 0.386962890625, 0.7490234375, -1.1884765625, 0.62451171875,\n                         -0.62841796875, -0.1734619140625, -0.29736328125, 1.064453125,\n                         -0.477294921875, -0.413818359375, 0.09942626953125, -0.5791015625,\n                         -0.350341796875, 0.414794921875, -0.736328125, -1.5625, -0.450927734375,\n                         -0.353271484375, -0.1419677734375, 0.89501953125, 0.414306640625,\n                         -0.29833984375, -0.68505859375, 0.45556640625, 0.0924072265625,\n                         -0.09173583984375, 0.18212890625, 0.435302734375, -0.11322021484375,\n                         0.70947265625, 0.06561279296875, -1.3154296875, -1.05859375, 0.427734375,\n                         0.1524658203125, 0.947265625, -0.421630859375, -11.296875,\n                         -0.1820068359375, 0.150390625, -0.1767578125, -0.385498046875,\n                         0.465576171875, -0.1292724609375, 0.0118560791015625, -0.2489013671875,\n                         0.003021240234375, 0.348388671875, -0.366943359375, -0.276611328125,\n                         -0.83642578125, 0.58935546875, -0.400146484375, 0.0972900390625,\n                         -0.364990234375, 0.72509765625, -0.7236328125, -0.247802734375,\n                         0.056976318359375, -0.5078125, -0.476806640625, -0.92138671875,\n                         1.5048828125, -0.298828125, 0.383544921875, -0.5546875, 1.4306640625,\n                         0.0552978515625, 0.1077880859375, -1.0947265625, 0.91455078125,\n                         0.8916015625, 0.1826171875, 0.09674072265625, 0.025360107421875,\n                         0.454345703125, -0.162353515625, 1.017578125, 0.27685546875, -1.0166015625,\n                         1.4345703125, 0.371337890625, -0.1771240234375, -0.265380859375,\n                         0.003589630126953125, 0.010223388671875, -0.69384765625, 0.418701171875,\n                         -0.2091064453125, 0.26708984375, 0.271728515625, 0.002613067626953125,\n                         -0.1773681640625, 0.093017578125, 0.30029296875, 0.1866455078125,\n                         -0.486328125, -0.09765625, 0.03985595703125, 0.1358642578125,\n                         -0.263916015625, 1.1796875, -0.673828125, 0.226806640625, 0.1644287109375,\n                         0.97216796875, -0.6953125, -0.253173828125, -0.611328125, 0.5185546875,\n                         -1.283203125, -0.219970703125, 1.283203125, 0.5361328125, -0.273193359375,\n                         -0.56396484375, -0.125, -0.248291015625, 0.2939453125],\n           'index': 0,\n           'object': 'embedding'}],\n 'id': '8c90e07f-d67d-458a-bc38-cb8ee5966045',\n 'model': 'gte-large-en-v1.5',\n 'object': 'list',\n 'usage': {'prompt_tokens': 7, 'total_tokens': 7}}\n"
     ]
    }
   ],
   "source": [
    "from mlflow.deployments import get_deploy_client\n",
    "\n",
    "\n",
    "# gte-large-en Foundation models are available using the /serving-endpoints/databricks-gte-large-en/invocations api. \n",
    "deploy_client = get_deploy_client(\"databricks\")\n",
    "\n",
    "# NOTE: if you change your embedding model here, make sure you change it in the query step too\n",
    "embeddings = deploy_client.predict(endpoint=\"databricks-gte-large-en\", inputs={\"input\": [\"What is Apache Spark?\"]})\n",
    "pprint(embeddings)"
   ]
  },
  {
   "cell_type": "markdown",
   "metadata": {
    "application/vnd.databricks.v1+cell": {
     "cellMetadata": {
      "byteLimit": 2048000,
      "rowLimit": 10000
     },
     "inputWidgets": {},
     "nuid": "d7070486-3457-4adc-97bc-94cdbb3b061c",
     "showTitle": false,
     "title": ""
    }
   },
   "source": [
    "# Compute Chunking Embeddings"
   ]
  },
  {
   "cell_type": "code",
   "execution_count": 0,
   "metadata": {
    "application/vnd.databricks.v1+cell": {
     "cellMetadata": {
      "byteLimit": 2048000,
      "rowLimit": 10000
     },
     "inputWidgets": {},
     "nuid": "27493e35-91d1-451d-bafc-a350651228e3",
     "showTitle": false,
     "title": ""
    }
   },
   "outputs": [],
   "source": [
    "from mlflow.exceptions import MlflowException\n",
    "import logging"
   ]
  },
  {
   "cell_type": "markdown",
   "metadata": {
    "application/vnd.databricks.v1+cell": {
     "cellMetadata": {},
     "inputWidgets": {},
     "nuid": "27e21e4e-bc74-4122-9c26-29bd8b315774",
     "showTitle": false,
     "title": ""
    }
   },
   "source": [
    "# Function to create embeddings using gte_large_en endpoint"
   ]
  },
  {
   "cell_type": "code",
   "execution_count": 0,
   "metadata": {
    "application/vnd.databricks.v1+cell": {
     "cellMetadata": {
      "byteLimit": 2048000,
      "rowLimit": 10000
     },
     "inputWidgets": {},
     "nuid": "358ed1b9-6012-45aa-85af-95dbdbc93a97",
     "showTitle": false,
     "title": ""
    }
   },
   "outputs": [],
   "source": [
    "import mlflow.deployments\n",
    "deploy_client = mlflow.deployments.get_deploy_client(\"databricks\")\n",
    "\n",
    "@pandas_udf(\"array<float>\")\n",
    "def get_embedding(contents: pd.Series) -> pd.Series:\n",
    "    \n",
    "    def get_embeddings(batch):\n",
    "        # NOTE: this will fail if an exception is thrown during embedding creation (add try/except if needed) \n",
    "         try:\n",
    "            # Convert the batch to a list of strings\n",
    "            string_batch = [str(item) for item in batch]  # Ensure all items are strings\n",
    "            emb_endpoint_name = \"databricks-gte-large-en\"# \"databricks-bge-large-en\"\n",
    "            response = deploy_client.predict(endpoint=emb_endpoint_name, inputs={\"input\": string_batch})\n",
    "            return [e[\"embedding\"] for e in response.data]\n",
    "         except MlflowException as e:\n",
    "            logging.error(f\"Error occurred while generating embeddings: {e}\")\n",
    "            return [None] * len(batch)  # Return None for failed embeddings\n",
    "    # splitting the contents into batches of 150 items each, since the embedding model takes at most 150 inputs per request.\n",
    "    max_batch_size = 150\n",
    "    batches = [contents.iloc[i:i + max_batch_size] for i in range(0, len(contents), max_batch_size)]\n",
    "\n",
    "    # process each batch and collect the results\n",
    "    all_embeddings = []\n",
    "    for batch in batches:\n",
    "        all_embeddings += get_embeddings(batch.tolist())\n",
    "\n",
    "    return pd.Series(all_embeddings)"
   ]
  },
  {
   "cell_type": "markdown",
   "metadata": {
    "application/vnd.databricks.v1+cell": {
     "cellMetadata": {
      "byteLimit": 2048000,
      "rowLimit": 10000
     },
     "inputWidgets": {},
     "nuid": "323338cd-7664-43c7-9ca6-b2447a95ca1e",
     "showTitle": false,
     "title": ""
    }
   },
   "source": [
    "## Save Embeddings to a Delta Table\n",
    "\n",
    "Now that the embeddings are ready, let's create a Delta table and store the embeddings in this table."
   ]
  },
  {
   "cell_type": "code",
   "execution_count": 0,
   "metadata": {
    "application/vnd.databricks.v1+cell": {
     "cellMetadata": {
      "byteLimit": 2048000,
      "implicitDf": true,
      "rowLimit": 10000
     },
     "inputWidgets": {},
     "nuid": "e4922649-618d-479a-bdb7-ff3ce8a2b658",
     "showTitle": false,
     "title": ""
    }
   },
   "outputs": [],
   "source": [
    "# %sql\n",
    "# DROP TABLE IF EXISTS cmidev.cbu_ccims_poc.claim_text_embeddings"
   ]
  },
  {
   "cell_type": "code",
   "execution_count": 0,
   "metadata": {
    "application/vnd.databricks.v1+cell": {
     "cellMetadata": {
      "byteLimit": 2048000,
      "implicitDf": true,
      "rowLimit": 10000
     },
     "inputWidgets": {},
     "nuid": "32427e70-37da-4877-b39e-47c1342f9d16",
     "showTitle": false,
     "title": ""
    }
   },
   "outputs": [],
   "source": [
    "%sql\n",
    "CREATE EXTERNAL TABLE IF NOT EXISTS cmidev.cbu_ccims_poc.claim_text_embeddings_gte (\n",
    "  id BIGINT GENERATED BY DEFAULT AS IDENTITY,\n",
    "  CLAIM_ID_SEQ STRING,\n",
    "  DOCUMENT_CHUNK STRING,\n",
    "  embedding ARRAY <FLOAT>\n",
    "  -- NOTE: the table has to be CDC because VectorSearch is using DLT that is requiring CDC state\n",
    "  ) \n",
    "  STORED AS PARQUET\n",
    "  LOCATION '<your_path_here>'\n",
    "  TBLPROPERTIES (delta.enableChangeDataFeed = true);"
   ]
  },
  {
   "cell_type": "markdown",
   "metadata": {
    "application/vnd.databricks.v1+cell": {
     "cellMetadata": {
      "byteLimit": 2048000,
      "rowLimit": 10000
     },
     "inputWidgets": {},
     "nuid": "122437f5-2794-4a92-bf1e-2f412c7301ea",
     "showTitle": false,
     "title": ""
    }
   },
   "source": [
    "# Batch operation to write data from df_chunk_emd into the embeddings delta table"
   ]
  },
  {
   "cell_type": "code",
   "execution_count": 0,
   "metadata": {
    "application/vnd.databricks.v1+cell": {
     "cellMetadata": {},
     "inputWidgets": {},
     "nuid": "3c7bbe33-b025-46b5-8297-527d5bdc500e",
     "showTitle": false,
     "title": ""
    }
   },
   "outputs": [],
   "source": [
    "target_tbl = \"cmidev.cbu_ccims_poc.claim_text_embeddings\"\n",
    "\n",
    "# define a function to append each batch of data to the Delta table  \n",
    "def append_to_delta_table(batch_df, batch_id):  \n",
    "    from pyspark.sql.functions import array, explode\n",
    "\n",
    "    # Assuming df has a column named \"DOCUMENT\" of type STRUCT\n",
    "    # and you want to create an array of some specific fields within this STRUCT\n",
    "    df_transformed = batch_df.withColumn(\"DOCUMENT_ARRAY\", array(\"DOCUMENT.OEM_CODE\",\n",
    "                                                        \"DOCUMENT.DEALER\",\n",
    "                                                        \"DOCUMENT.DISTR\",\"DOCUMENT.FC\",\n",
    "                                                        \"DOCUMENT.ENGINE_NAME_DESC\",\"DOCUMENT.FAILCODE\",\n",
    "                                                        \"DOCUMENT.SHOPORDERNUM\",\n",
    "                                                        \"DOCUMENT.FAILURE_MODE_BUCKET\",\n",
    "                                                        \"DOCUMENT.CLEANED_CORRECTION\"))\n",
    "\n",
    "    df_chunks = spark.createDataFrame([], schema='CLAIM_ID_SEQ INT, DOCUMENT_CHUNK STRING')\n",
    "\n",
    "    df_chunks = (df_transformed\n",
    "                    .withColumn(\"DOCUMENT_CHUNK\", explode(df_transformed[\"DOCUMENT_ARRAY\"]))\n",
    "                    .selectExpr('CLAIM_ID_SEQ', 'DOCUMENT_CHUNK')\n",
    "                )\n",
    "\n",
    "    df_chunk_emd = (df_chunks \n",
    "                .withColumn(\"embedding\", get_embedding(\"DOCUMENT_CHUNK\"))\n",
    "                .selectExpr(\"CLAIM_ID_SEQ\", \"DOCUMENT_CHUNK\", \"embedding\")\n",
    "                )\n",
    "\n",
    "    df_chunk_emd.write.mode(\"append\").option(\"path\",\"abfss://cbu-ccims-poc@cmidevengineraw.dfs.core.windows.net/claim_text_embeddings\")\\\n",
    "        .saveAsTable(target_tbl)\n",
    "  \n",
    "# write the PySpark DataFrame to the Delta table in batches using foreachBatch()  \n",
    "df.writeStream \\\n",
    "    .foreachBatch(append_to_delta_table) \\\n",
    "    .option(\"checkpointLocation\", \"abfss://cbu-ccims-poc@cmidevengineraw.dfs.core.windows.net/checkpoint/claim_text_embeddings\") \\\n",
    "    .trigger(Trigger.AvailableNow()) \\\n",
    "    .start()"
   ]
  },
  {
   "cell_type": "markdown",
   "metadata": {
    "application/vnd.databricks.v1+cell": {
     "cellMetadata": {
      "byteLimit": 2048000,
      "rowLimit": 10000
     },
     "inputWidgets": {},
     "nuid": "ba92033b-4c18-4f74-8a29-9e7557c53a91",
     "showTitle": false,
     "title": ""
    }
   },
   "source": [
    "\n",
    "## Conclusion\n",
    "\n",
    "This notebook completed processing documents by extracting text chunks from feature table, and then by creating embeddings using a foundation model. This process included setting up an enpoint and computing embeddings for the chunks. In the final step, we stored computed embeddings in a Delta table."
   ]
  },
  {
   "cell_type": "code",
   "execution_count": 0,
   "metadata": {
    "application/vnd.databricks.v1+cell": {
     "cellMetadata": {},
     "inputWidgets": {},
     "nuid": "973e607b-63ae-4a64-bbf6-7668a677cbfb",
     "showTitle": false,
     "title": ""
    }
   },
   "outputs": [],
   "source": []
  }
 ],
 "metadata": {
  "application/vnd.databricks.v1+notebook": {
   "dashboards": [],
   "environmentMetadata": {
    "base_environment": "",
    "client": "1"
   },
   "language": "python",
   "notebookMetadata": {
    "mostRecentlyExecutedCommandWithImplicitDF": {
     "commandId": -1,
     "dataframes": [
      "_sqldf"
     ]
    },
    "pythonIndentUnit": 4
   },
   "notebookName": "2. Data Preparation_Chunking_Embeddings",
   "widgets": {}
  }
 },
 "nbformat": 4,
 "nbformat_minor": 0
}
